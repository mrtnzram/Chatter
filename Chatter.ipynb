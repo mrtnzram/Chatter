{
 "cells": [
  {
   "cell_type": "markdown",
   "id": "6faada6b",
   "metadata": {},
   "source": [
    "# Chatter\n",
    "Semi-automatic bout segmentation from bird song recordings using acoustic features such as Spectral Flux, Energy, and MFCC coefficients."
   ]
  },
  {
   "cell_type": "code",
   "execution_count": null,
   "id": "8d73dc20",
   "metadata": {},
   "outputs": [],
   "source": [
    "# Importing functionalities\n",
    "from audio_utils import *\n",
    "from chatter_core import *\n",
    "from visualizations import *\n",
    "import warnings\n",
    "# Suppress all warnings\n",
    "warnings.filterwarnings(\"ignore\")"
   ]
  },
  {
   "cell_type": "code",
   "execution_count": 3,
   "id": "a824005d",
   "metadata": {
    "scrolled": true
   },
   "outputs": [
    {
     "data": {
      "text/html": [
       "<div>\n",
       "<style scoped>\n",
       "    .dataframe tbody tr th:only-of-type {\n",
       "        vertical-align: middle;\n",
       "    }\n",
       "\n",
       "    .dataframe tbody tr th {\n",
       "        vertical-align: top;\n",
       "    }\n",
       "\n",
       "    .dataframe thead th {\n",
       "        text-align: right;\n",
       "    }\n",
       "</style>\n",
       "<table border=\"1\" class=\"dataframe\">\n",
       "  <thead>\n",
       "    <tr style=\"text-align: right;\">\n",
       "      <th></th>\n",
       "      <th>species</th>\n",
       "      <th>bird_id</th>\n",
       "      <th>wav_location</th>\n",
       "      <th>song_id</th>\n",
       "    </tr>\n",
       "  </thead>\n",
       "  <tbody>\n",
       "    <tr>\n",
       "      <th>0</th>\n",
       "      <td>Geospiza-fortis</td>\n",
       "      <td>82595</td>\n",
       "      <td>Songs\\Geospiza-fortis-82595.wav</td>\n",
       "      <td>0</td>\n",
       "    </tr>\n",
       "    <tr>\n",
       "      <th>1</th>\n",
       "      <td>Geospiza-fortis</td>\n",
       "      <td>82869</td>\n",
       "      <td>Songs\\Geospiza-fortis-82869.wav</td>\n",
       "      <td>1</td>\n",
       "    </tr>\n",
       "    <tr>\n",
       "      <th>2</th>\n",
       "      <td>Geospiza-scandens</td>\n",
       "      <td>308004</td>\n",
       "      <td>Songs\\Geospiza-scandens-308004.wav</td>\n",
       "      <td>0</td>\n",
       "    </tr>\n",
       "    <tr>\n",
       "      <th>3</th>\n",
       "      <td>Geospiza-scandens</td>\n",
       "      <td>46234</td>\n",
       "      <td>Songs\\Geospiza-scandens-46234.wav</td>\n",
       "      <td>1</td>\n",
       "    </tr>\n",
       "    <tr>\n",
       "      <th>4</th>\n",
       "      <td>Melospiza-melodia</td>\n",
       "      <td>333640</td>\n",
       "      <td>Songs\\Melospiza-melodia-333640.wav</td>\n",
       "      <td>0</td>\n",
       "    </tr>\n",
       "  </tbody>\n",
       "</table>\n",
       "</div>"
      ],
      "text/plain": [
       "             species bird_id                        wav_location  song_id\n",
       "0    Geospiza-fortis   82595     Songs\\Geospiza-fortis-82595.wav        0\n",
       "1    Geospiza-fortis   82869     Songs\\Geospiza-fortis-82869.wav        1\n",
       "2  Geospiza-scandens  308004  Songs\\Geospiza-scandens-308004.wav        0\n",
       "3  Geospiza-scandens   46234   Songs\\Geospiza-scandens-46234.wav        1\n",
       "4  Melospiza-melodia  333640  Songs\\Melospiza-melodia-333640.wav        0"
      ]
     },
     "execution_count": 3,
     "metadata": {},
     "output_type": "execute_result"
    }
   ],
   "source": [
    "# Making initial dataframe of song recordings\n",
    "root_dir = \"Songs\"\n",
    "df = create_initial_dataset(root_dir)\n",
    "df.head()"
   ]
  },
  {
   "cell_type": "code",
   "execution_count": null,
   "id": "e7dc1551",
   "metadata": {},
   "outputs": [],
   "source": [
    "# Preparing model, processor, and precomputing bout detection\n",
    "birdnet_model_path  = \"BirdNETmodel\"\n",
    "extractor = AudioFeatureExtractor(\n",
    "    use_birdnet=True,\n",
    "    birdnet_model_path=birdnet_model_path\n",
    ")\n",
    "df = df.join(df.apply(extractor.compute_all_features, axis=1))"
   ]
  },
  {
   "cell_type": "code",
   "execution_count": 5,
   "id": "91b88185",
   "metadata": {},
   "outputs": [
    {
     "data": {
      "application/vnd.jupyter.widget-view+json": {
       "model_id": "a4dfed1f1cad4238a7fc91e153b5025c",
       "version_major": 2,
       "version_minor": 0
      },
      "text/plain": [
       "VBox(children=(HBox(children=(Dropdown(description='Select Bird:', options=(('Geospiza-fortis 82595', 0), ('Ge…"
      ]
     },
     "metadata": {},
     "output_type": "display_data"
    },
    {
     "data": {
      "application/vnd.jupyter.widget-view+json": {
       "model_id": "0e5367b0d4fb4ef69ef1cc1b0a767da0",
       "version_major": 2,
       "version_minor": 0
      },
      "text/plain": [
       "Output()"
      ]
     },
     "metadata": {},
     "output_type": "display_data"
    }
   ],
   "source": [
    "# Launching Chatter\n",
    "chatter = Chatter(df, extractor)\n",
    "chatter.display()"
   ]
  },
  {
   "cell_type": "code",
   "execution_count": 6,
   "id": "b8f730c6-ee6f-4696-98cd-1202cb66a008",
   "metadata": {},
   "outputs": [],
   "source": [
    "# This dataframe contains your detected bouts aswell as their respective metadata\n",
    "chatter.bouts_df"
   ]
  },
  {
   "cell_type": "code",
   "execution_count": 7,
   "id": "3b121d3c",
   "metadata": {},
   "outputs": [],
   "source": [
    "# Saving bouts dataframe as csv\n",
    "os.makedirs(\"data\", exist_ok=True)\n",
    "bouts_data_loc = os.path.join(\"data\", \"bouts.csv\")\n",
    "\n",
    "chatter.bouts_df.to_csv(bouts_data_loc, index=False)\n",
    "print(f\"Bouts data saved to {bouts_data_loc}\")"
   ]
  }
 ],
 "metadata": {
  "kernelspec": {
   "display_name": "Python (Chatter)",
   "language": "python",
   "name": "chatter_test"
  },
  "language_info": {
   "codemirror_mode": {
    "name": "ipython",
    "version": 3
   },
   "file_extension": ".py",
   "mimetype": "text/x-python",
   "name": "python",
   "nbconvert_exporter": "python",
   "pygments_lexer": "ipython3",
   "version": "3.10.16"
  }
 },
 "nbformat": 4,
 "nbformat_minor": 5
}
